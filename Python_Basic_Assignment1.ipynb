{
 "cells": [
  {
   "cell_type": "markdown",
   "id": "6d6c1624",
   "metadata": {},
   "source": [
    "1. **In the below elements which of them are values or an expression? eg:- values can be integer or string and expressions will be mathematical operators**.\n",
    "<br>\n",
    "<br>\n",
    "Solution :\n",
    "- `*` = Expression\n",
    "- `hello` = Value\n",
    "-  `87.8` = Value\n",
    "-  `-` = Expression\n",
    "- `/` = Expression\n",
    "- `6`= Value\n"
   ]
  },
  {
   "cell_type": "markdown",
   "id": "dfd5cf89",
   "metadata": {},
   "source": [
    "2. **What is the difference between string and variable?**\n",
    "<br>\n",
    "<br>\n",
    "Solution:\n",
    "- A string is basically a text or a collection of Characters enclosed in quoates. Eg = \"ineuron\",\"jack\".\n",
    "- A variable on the other hand are containers to store values. A variable can be created to store interger/string/float or datetime values. eg : var=16 creates a variable named var with a value of 16. \n"
   ]
  },
  {
   "cell_type": "markdown",
   "id": "81adf1a3",
   "metadata": {},
   "source": [
    "3. **Describe three different data types.**\n",
    "<br>\n",
    "<br>\n",
    "Solution:\n",
    "- Integers : The integers data type included whole numbers. eg = 14,10\n",
    "- Float : These refer to numeric values which decimal representation. eg = 2.5, 3.6\n",
    "- List : They are ordered collection of  elements.eg : [1,2,3]\n",
    "- Set : Sets are unordered collection of unique elements/ Eg : {1,2,3}"
   ]
  },
  {
   "cell_type": "markdown",
   "id": "6c7c6cd8",
   "metadata": {},
   "source": [
    "4: **What is an expression made up of? What do all expressions do?**\n",
    "<br>\n",
    "Solution:\n",
    "An expression is a combination of operators and operands that is interpreted to produce some other value. An Expression is made up of numeric values, operators to produce a value. Eg: x = 15+10"
   ]
  },
  {
   "cell_type": "markdown",
   "id": "b8d0764b",
   "metadata": {},
   "source": [
    "5.**This assignment statements, like spam = 10. What is the difference between an expression and a statement?**\n",
    "<br>\n",
    "Evaluation of an expression always Produces or returns a result value. Execution of a statement may or may not produces or displays a result value, it only does whatever the statement says. The obe statement does not produce any value or returns anything. It just creates a variable named spam with a value of 10."
   ]
  },
  {
   "cell_type": "markdown",
   "id": "c0d2327d",
   "metadata": {},
   "source": [
    "6.**After running the following code, what does the variable bacon contain?**\n",
    "**bacon = 22**\n",
    "**bacon + 1**\n",
    "<br>\n",
    "Solution:\n",
    "bacon will hold the value of 21 as it is not reassigned after an increment of 1."
   ]
  },
  {
   "cell_type": "markdown",
   "id": "170e5913",
   "metadata": {},
   "source": [
    "7.**What should the values of the following two terms be?**\n",
    "<br>\n",
    "\n",
    "Solution\n",
    "<br>\n",
    "**'spam' + 'spamspam'** will result in 'spamspamspam'\n",
    "<br>\n",
    "**'spam' * 3** will result in 'spamspamspam'\n"
   ]
  },
  {
   "cell_type": "markdown",
   "id": "cc4b65c4",
   "metadata": {},
   "source": [
    "8.**Why is eggs a valid variable name while 100 is invalid?**\n",
    "<br>\n",
    "Solution: Variable name must start with alphabets or underscore. It cannot start with numbers \n"
   ]
  },
  {
   "cell_type": "markdown",
   "id": "434f5ab8",
   "metadata": {},
   "source": [
    "9.**What three functions can be used to get the integer, floating-point number, or string version of a value?**\n",
    "<br>\n",
    "Solution:\n",
    "- int()\n",
    "- float()\n",
    "- str()"
   ]
  },
  {
   "cell_type": "markdown",
   "id": "eceacc5e",
   "metadata": {},
   "source": [
    "**10. Why does this expression cause an error? How can you fix it?**\n",
    "**'I have eaten ' + 99 + ' burritos.'**\n",
    "<br>\n",
    "Solution: This expression causes and erroras the value 99 has to be converted into string.<br>\n",
    "Fix: 'I have eaten ' + str(99) + ' burritos.'\n"
   ]
  }
 ],
 "metadata": {
  "kernelspec": {
   "display_name": "Python 3",
   "language": "python",
   "name": "python3"
  },
  "language_info": {
   "codemirror_mode": {
    "name": "ipython",
    "version": 3
   },
   "file_extension": ".py",
   "mimetype": "text/x-python",
   "name": "python",
   "nbconvert_exporter": "python",
   "pygments_lexer": "ipython3",
   "version": "3.8.10"
  }
 },
 "nbformat": 4,
 "nbformat_minor": 5
}
