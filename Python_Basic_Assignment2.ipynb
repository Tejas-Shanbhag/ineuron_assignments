{
 "cells": [
  {
   "cell_type": "markdown",
   "id": "df952061",
   "metadata": {},
   "source": [
    "**1.What are the two values of the Boolean data type? How do you write them?**\n",
    "<br>\n",
    "<br>\n",
    "Solution:\n",
    "The two boolean data types are true and false. In Python tehy can be represented as:\n",
    "- True\n",
    "- False\n",
    "\n",
    "True corresponds to 1 and False corresponds to 0."
   ]
  },
  {
   "cell_type": "markdown",
   "id": "a9e8fd01",
   "metadata": {},
   "source": [
    "**2. What are the three different types of Boolean operators?**\n",
    "<br>\n",
    "<br>\n",
    "Solution: Different types of Boolean operators are:\n",
    "- and\n",
    "- or\n",
    "- not"
   ]
  },
  {
   "cell_type": "markdown",
   "id": "62a89647",
   "metadata": {},
   "source": [
    "**3. Make a list of each Boolean operator's truth tables (i.e. every possible combination of Boolean values for the operator and what it evaluate ).**\n",
    "<br>\n",
    "<br>\n",
    "Solution: \n",
    "<br>\n",
    "<br>\n",
    "**AND**\n",
    "\n",
    "|INPUT1 | INPUT1  | Output |\n",
    "|---|---|---|\n",
    "|True | True | True |\n",
    "|True | False| False|\n",
    "|False | True| False|\n",
    "|False | False| False|\n",
    "<br>\n",
    "\n",
    "**OR**\n",
    "<br>\n",
    "\n",
    "|INPUT1 | INPUT1  | Output |\n",
    "|---|---|---|\n",
    "|True | True | True |\n",
    "|True | False| True|\n",
    "|False | True| True|\n",
    "|False | False| False|\n",
    "<br>\n",
    "\n",
    "**NOT**\n",
    "<br>\n",
    "\n",
    "|INPUT1 | Output |\n",
    "|---|---|\n",
    "|True | False |\n",
    "|False |  True|\n",
    "<br>"
   ]
  },
  {
   "cell_type": "markdown",
   "id": "f93287bc",
   "metadata": {},
   "source": [
    "**4. What are the values of the following expressions?**\n",
    "<br>\n",
    "<br>\n",
    "Solution:\n",
    "- (5 > 4) and (3 == 5) -> False\n",
    "- not (5 > 4) -> False\n",
    "- (5 > 4) or (3 == 5) -> True\n",
    "- not ((5 > 4) or (3 == 5)) -> False\n",
    "- (True and True) and (True == False) -> False\n",
    "- (not False) or (not True) -> True\n"
   ]
  },
  {
   "cell_type": "markdown",
   "id": "7d563af4",
   "metadata": {},
   "source": [
    "**5. What are the six comparison operators?**\n",
    "<br>\n",
    "<br>\n",
    "Solution:\n",
    "\n",
    "|Operator|Description|Syntax|\n",
    "|---|---|---|\n",
    "|>|Greater than: True if the left operand is greater than the right|x > y|\n",
    "|<|Less than:True if left operand is less than right|x < y|\n",
    "|==|Equal to: True if both operands are equal|x == y|\n",
    "|!=|Not equal to – True if operands are not equal|x != y|\n",
    "|>=|Greater than or equal to: True if left operand is greater than or equal to the right|x >= y|\n",
    "|<=|Less than or equal to: True if left operand is less than or equal to the right|x <= y|\n",
    "\n",
    "<br>"
   ]
  },
  {
   "cell_type": "markdown",
   "id": "23cfc658",
   "metadata": {},
   "source": [
    "**6. How do you tell the difference between the equal to and assignment operators?Describe a condition and when you would use one.**\n",
    "<br>\n",
    "<br>\n",
    "Solution:\n",
    "- The Equal to operator is denoted as == . It compares two variables and returns True if they are equal. Eg 2 ==2 would return True.\n",
    "- The assignment operator is denoted by = . It is used to assign a value to a variable. For eg var1 = 10 assigns a values of 10 to the variable var1."
   ]
  },
  {
   "cell_type": "markdown",
   "id": "91fabaf5",
   "metadata": {},
   "source": [
    "**7. Identify the three blocks in this code:**\n",
    "```\n",
    "spam = 0\n",
    "if spam == 10:    # BLOCK1\n",
    "print('eggs')\n",
    "if spam > 5:     #BLOCK2\n",
    "print('bacon')\n",
    "else:            #BLOCK3\n",
    "print('ham')\n",
    "print('spam')\n",
    "print('spam')\n",
    "```"
   ]
  },
  {
   "cell_type": "markdown",
   "id": "0bc2b73a",
   "metadata": {},
   "source": [
    "**8. Write code that prints Hello if 1 is stored in spam, prints Howdy if 2 is stored in spam, and prints Greetings! if anything else is stored in spam.**"
   ]
  },
  {
   "cell_type": "code",
   "execution_count": 13,
   "id": "ee8feb24",
   "metadata": {},
   "outputs": [
    {
     "name": "stdout",
     "output_type": "stream",
     "text": [
      "Howdy\n"
     ]
    }
   ],
   "source": [
    "spam = 2\n",
    "if spam ==1:\n",
    "    print(\"Hello\")\n",
    "elif spam == 2:\n",
    "    print(\"Howdy\")\n",
    "else:\n",
    "    print(\"Greetings!!!!\")"
   ]
  },
  {
   "cell_type": "markdown",
   "id": "59536d6d",
   "metadata": {},
   "source": [
    "**9. If your programme is stuck in an endless loop, what keys you’ll press?**\n",
    "<br>\n",
    "<br>\n",
    "Solution: Print Ctrl + C"
   ]
  },
  {
   "cell_type": "markdown",
   "id": "191f5a55",
   "metadata": {},
   "source": [
    "**10. How can you tell the difference between break and continue?**\n",
    "<br>\n",
    "<br>\n",
    "Solution:\n",
    "- The **break** statement is used to exit from the loop constructs.When a break statement is encountered then the control is exited from the loop construct immediately.\n",
    "- The **continue** statement is not used to exit from the loop constructs.When the continue statement is encountered then the control automatically passed from the beginning of the loop statement."
   ]
  },
  {
   "cell_type": "markdown",
   "id": "05a525b4",
   "metadata": {},
   "source": [
    "**11. In a for loop, what is the difference between range(10), range(0, 10), and range(0, 10, 1)?**\n",
    "<br>\n",
    "<br>\n",
    "Solution:\n",
    "They are actually the same."
   ]
  },
  {
   "cell_type": "code",
   "execution_count": 15,
   "id": "9db23437",
   "metadata": {},
   "outputs": [
    {
     "name": "stdout",
     "output_type": "stream",
     "text": [
      "0\n",
      "1\n",
      "2\n",
      "3\n",
      "4\n",
      "5\n",
      "6\n",
      "7\n",
      "8\n",
      "9\n"
     ]
    }
   ],
   "source": [
    "for i in range(10):\n",
    "    print(i)"
   ]
  },
  {
   "cell_type": "code",
   "execution_count": 16,
   "id": "b8169d39",
   "metadata": {},
   "outputs": [
    {
     "name": "stdout",
     "output_type": "stream",
     "text": [
      "0\n",
      "1\n",
      "2\n",
      "3\n",
      "4\n",
      "5\n",
      "6\n",
      "7\n",
      "8\n",
      "9\n"
     ]
    }
   ],
   "source": [
    "for i in range(0,10):\n",
    "    print(i)"
   ]
  },
  {
   "cell_type": "code",
   "execution_count": 17,
   "id": "e54d00cf",
   "metadata": {},
   "outputs": [
    {
     "name": "stdout",
     "output_type": "stream",
     "text": [
      "0\n",
      "1\n",
      "2\n",
      "3\n",
      "4\n",
      "5\n",
      "6\n",
      "7\n",
      "8\n",
      "9\n"
     ]
    }
   ],
   "source": [
    "for i in range(0,10,1):\n",
    "    print(i)"
   ]
  },
  {
   "cell_type": "markdown",
   "id": "68751657",
   "metadata": {},
   "source": [
    "**12. Write a short program that prints the numbers 1 to 10 using a for loop. Then write an equivalent program that prints the numbers 1 to 10 using a while loop.**"
   ]
  },
  {
   "cell_type": "code",
   "execution_count": 18,
   "id": "932c12df",
   "metadata": {},
   "outputs": [
    {
     "name": "stdout",
     "output_type": "stream",
     "text": [
      "1\n",
      "2\n",
      "3\n",
      "4\n",
      "5\n",
      "6\n",
      "7\n",
      "8\n",
      "9\n",
      "10\n"
     ]
    }
   ],
   "source": [
    "for i in range(1,11):\n",
    "    print(i)"
   ]
  },
  {
   "cell_type": "code",
   "execution_count": 19,
   "id": "211fcfb6",
   "metadata": {},
   "outputs": [
    {
     "name": "stdout",
     "output_type": "stream",
     "text": [
      "1\n",
      "2\n",
      "3\n",
      "4\n",
      "5\n",
      "6\n",
      "7\n",
      "8\n",
      "9\n",
      "10\n"
     ]
    }
   ],
   "source": [
    "i=1\n",
    "while(i<11):\n",
    "    print(i)\n",
    "    i+=1"
   ]
  },
  {
   "cell_type": "markdown",
   "id": "cf0d4f91",
   "metadata": {},
   "source": [
    "**13. If you had a function named bacon() inside a module named spam, how would you call it after importing spam?**\n",
    "<br>\n",
    "<br>\n",
    "Solution:\n",
    "There are two ways :\n",
    "- We can use -> **from spam import bacon**\n",
    "- Second way -> **spam.bacon()**"
   ]
  }
 ],
 "metadata": {
  "kernelspec": {
   "display_name": "Python 3",
   "language": "python",
   "name": "python3"
  },
  "language_info": {
   "codemirror_mode": {
    "name": "ipython",
    "version": 3
   },
   "file_extension": ".py",
   "mimetype": "text/x-python",
   "name": "python",
   "nbconvert_exporter": "python",
   "pygments_lexer": "ipython3",
   "version": "3.8.10"
  }
 },
 "nbformat": 4,
 "nbformat_minor": 5
}
